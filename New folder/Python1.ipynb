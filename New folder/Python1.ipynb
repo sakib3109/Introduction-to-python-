{
 "cells": [
  {
   "cell_type": "code",
   "execution_count": null,
   "id": "64253cc1",
   "metadata": {},
   "outputs": [],
   "source": [
    "from PIL import Image\n",
    "import qrcode\n",
    "\n",
    "# Step 1: Input data\n",
    "data = input(\"Enter the data for the QR code: \")\n",
    "\n",
    "# Step 2: Generate QR code\n",
    "qr = qrcode.QRCode(\n",
    "    version=1,\n",
    "    error_correction=qrcode.constants.ERROR_CORRECT_H,  # high error correction\n",
    "    box_size=10,\n",
    "    border=4\n",
    ")\n",
    "qr.add_data(data)\n",
    "qr.make(fit=True)\n",
    "\n",
    "qr_image = qr.make_image(fill_color=\"black\", back_color=\"white\").convert('RGBA')\n",
    "\n",
    "# Step 3: Add watermark\n",
    "try:\n",
    "    watermark = Image.open(\"cllogo.png\").convert(\"RGBA\")\n",
    "    # Resize watermark (1/4 of QR code size)\n",
    "    w_size = (qr_image.size[0] // 4, qr_image.size[1] // 4)\n",
    "    watermark = watermark.resize(w_size, Image.Resampling.LANCZOS)\n",
    "\n",
    "    # Center position\n",
    "    pos = ((qr_image.size[0] - watermark.size[0]) // 2,\n",
    "           (qr_image.size[1] - watermark.size[1]) // 2)\n",
    "\n",
    "    qr_image.paste(watermark, pos, watermark)\n",
    "except FileNotFoundError:\n",
    "    print(\"Watermark not found, continuing without it...\")\n",
    "\n",
    "# Step 4: Save QR code\n",
    "output_file = \"qr_code_with_watermark.png\"\n",
    "qr_image.save(output_file)\n",
    "print(f\"QR code saved as {output_file}\")\n",
    "\n",
    "# Step 5: Read QR code (we know the data because we generated it)\n",
    "print(\"QR code content is:\", data)\n",
    "\n",
    "# Optional: display the QR code\n",
    "qr_image.show()\n"
   ]
  },
  {
   "cell_type": "code",
   "execution_count": null,
   "id": "90af1a66",
   "metadata": {},
   "outputs": [],
   "source": [
    "import winshell\n",
    "\n",
    "try: \n",
    "    winshell.reycycle_bin().empty(confirm=False, show_progress=False, sound= false)\n",
    "\n",
    "    print(\"Recycle Bin Emptied\")\n",
    "except:\n",
    "    print(\"recycle bin ALLREADY EMPTY\")"
   ]
  },
  {
   "cell_type": "markdown",
   "id": "e4cc0639",
   "metadata": {},
   "source": [
    "colorful Galaxy "
   ]
  },
  {
   "cell_type": "code",
   "execution_count": null,
   "id": "732c8162",
   "metadata": {},
   "outputs": [],
   "source": [
    "import turtle\n",
    "t = turtle.Turtle()\n",
    "s = turtle.Screen()\n",
    "colors = ['red', 'purple', 'blue', 'green', 'orange', 'yellow','magenta','cyan']\n",
    "s.bgcolor('black')\n",
    "t.pensize(2)\n",
    "t.speed(0)\n",
    "\n",
    "for x in range(360):\n",
    "    t.pencolor(colors[x % 8])\n",
    "    t.width(x / 100 + 1)\n",
    "    t.forward(x)\n",
    "    t.right(59)\n",
    "    turtle.hideturtle()"
   ]
  },
  {
   "cell_type": "markdown",
   "id": "dd59f2fb",
   "metadata": {},
   "source": [
    "Pie chart"
   ]
  },
  {
   "cell_type": "code",
   "execution_count": null,
   "id": "aa3ed90b",
   "metadata": {},
   "outputs": [],
   "source": [
    "import matplotlib.pyplot as plt\n",
    "\n",
    "labels = ['Python', 'C++', 'Ruby', 'Java']\n",
    "sizes = [215, 130, 245, 210]\n",
    "\n",
    "plt.pie(sizes, labels=labels, autopct='%1.1f%%')\n",
    "plt.axis('equal')  # Equal aspect ratio ensures the pie chart is circular\n",
    "plt.show()\n"
   ]
  },
  {
   "cell_type": "markdown",
   "id": "86dacf81",
   "metadata": {},
   "source": [
    "creat a funnel chart using matplotlib"
   ]
  },
  {
   "cell_type": "code",
   "execution_count": null,
   "id": "62a5d9fd",
   "metadata": {},
   "outputs": [],
   "source": [
    "import plotly.graph_objects as go\n",
    "import plotly.io as pio\n",
    "pio.renderers.default = \"browser\"\n",
    "\n",
    "\n",
    "stages = ['A', 'B', 'C', 'D']\n",
    "values = [450, 250, 105, 205]\n",
    "\n",
    "fig = go.Figure(go.Funnel(\n",
    "    y=stages,\n",
    "    x=values,\n",
    "    textinfo=\"value+percent initial\"\n",
    "))\n",
    "\n",
    "fig.update_layout(title_text=\"Funnel Chart\", title_x=0.5)\n",
    "fig.show()\n"
   ]
  },
  {
   "cell_type": "markdown",
   "id": "eeaad628",
   "metadata": {},
   "source": [
    "create a zip file using python"
   ]
  },
  {
   "cell_type": "code",
   "execution_count": null,
   "id": "5a708b2c",
   "metadata": {},
   "outputs": [],
   "source": [
    "import zipfile\n",
    "\n",
    "files = ['file1.txt', 'file2.txt', 'file3.txt']\n",
    "\n",
    "with zipfile.ZipFile('sakib.zip', 'w') as zipf:\n",
    "    for file in files:\n",
    "        zipf.write(file)\n",
    "\n",
    "print(\"Files zipped successfully into sakib.zip\")"
   ]
  },
  {
   "cell_type": "markdown",
   "id": "1b56100f",
   "metadata": {},
   "source": [
    "Animated Scatter Plot in Python "
   ]
  },
  {
   "cell_type": "code",
   "execution_count": null,
   "id": "635ac8c1",
   "metadata": {},
   "outputs": [],
   "source": [
    "import plotly.express as px   # correct spelling!\n",
    "\n",
    "data = px.data.gapminder()\n",
    "\n",
    "fig = px.scatter(\n",
    "    data,\n",
    "    x='gdpPercap',\n",
    "    y='lifeExp',\n",
    "    animation_frame='year',\n",
    "    animation_group='country',\n",
    "    size='pop',\n",
    "    color='continent',\n",
    "    hover_name='country',\n",
    "    log_x=True,\n",
    "    size_max=60,\n",
    "    range_y=[20, 90],\n",
    "    range_x=[100, 100000],\n",
    "    title=\"Gapminder Global Development\"   # added comma above\n",
    ")\n",
    "\n",
    "fig.show()\n"
   ]
  },
  {
   "cell_type": "markdown",
   "id": "5107e1b2",
   "metadata": {},
   "source": [
    "Donut chart using python"
   ]
  },
  {
   "cell_type": "code",
   "execution_count": null,
   "id": "395e9b50",
   "metadata": {},
   "outputs": [],
   "source": [
    "import matplotlib.pyplot as plt\n",
    "\n",
    "sizes = [215, 130, 245, 210]\n",
    "labels = ['Python', 'C++', 'Ruby', 'Java']      \n",
    "\n",
    "plt.pie(sizes, labels=labels, autopct='%1.1f%%')\n",
    "circle = plt.Circle((0, 0), 0.8, color='white')\n",
    "plt.gca().add_artist(circle)\n",
    "plt.title(\"Doughnut Chart\")\n",
    "plt.show()"
   ]
  },
  {
   "cell_type": "markdown",
   "id": "ab04c009",
   "metadata": {},
   "source": [
    "create a nanoparticle(metal cluster)"
   ]
  },
  {
   "cell_type": "code",
   "execution_count": null,
   "id": "9d248d28",
   "metadata": {},
   "outputs": [],
   "source": [
    "from ase.cluster import Icosahedron\n",
    "from ase.visualize import view\n",
    "\n",
    "nanoparticle = Icosahedron('Au', 3)  # Gold nanoparticle with 3 shells\n",
    "\n",
    "view(nanoparticle)"
   ]
  },
  {
   "cell_type": "markdown",
   "id": "87166b96",
   "metadata": {},
   "source": [
    "pdf to audio file"
   ]
  },
  {
   "cell_type": "code",
   "execution_count": 1,
   "id": "02ae095c",
   "metadata": {},
   "outputs": [],
   "source": [
    "import PyPDF2\n",
    "import pyttsx3\n",
    "\n",
    "# Open the PDF file\n",
    "path = open('sample.pdf', 'rb')\n",
    "\n",
    "# Create PDF reader object\n",
    "pdf_reader = PyPDF2.PdfReader(path)\n",
    "\n",
    "# Initialize text-to-speech engine\n",
    "speaker = pyttsx3.init()\n",
    "\n",
    "# Loop through all pages\n",
    "for page_num in range(len(pdf_reader.pages)):\n",
    "    page = pdf_reader.pages[page_num]        # Get page\n",
    "    text = page.extract_text()               # Extract text\n",
    "    if text:                                 # Avoid None\n",
    "        speaker.say(text)\n",
    "        speaker.runAndWait()\n",
    "\n",
    "speaker.stop()\n",
    "path.close()\n"
   ]
  },
  {
   "cell_type": "code",
   "execution_count": null,
   "id": "b0beeba2",
   "metadata": {},
   "outputs": [],
   "source": []
  },
  {
   "cell_type": "code",
   "execution_count": null,
   "id": "1c3fc3ee",
   "metadata": {},
   "outputs": [],
   "source": []
  },
  {
   "cell_type": "code",
   "execution_count": null,
   "id": "20aa6ca0",
   "metadata": {},
   "outputs": [],
   "source": []
  },
  {
   "cell_type": "code",
   "execution_count": null,
   "id": "1ea21368",
   "metadata": {},
   "outputs": [],
   "source": []
  },
  {
   "cell_type": "code",
   "execution_count": null,
   "id": "2791bf3d",
   "metadata": {},
   "outputs": [],
   "source": []
  },
  {
   "cell_type": "code",
   "execution_count": null,
   "id": "e0a6e7ef",
   "metadata": {},
   "outputs": [],
   "source": []
  },
  {
   "cell_type": "code",
   "execution_count": null,
   "id": "66ac4229",
   "metadata": {},
   "outputs": [],
   "source": []
  },
  {
   "cell_type": "code",
   "execution_count": null,
   "id": "5c839103",
   "metadata": {},
   "outputs": [],
   "source": []
  },
  {
   "cell_type": "code",
   "execution_count": null,
   "id": "b53ca1ef",
   "metadata": {},
   "outputs": [],
   "source": []
  },
  {
   "cell_type": "code",
   "execution_count": null,
   "id": "07a37c68",
   "metadata": {},
   "outputs": [],
   "source": []
  },
  {
   "cell_type": "code",
   "execution_count": null,
   "id": "424fd332",
   "metadata": {},
   "outputs": [],
   "source": []
  },
  {
   "cell_type": "code",
   "execution_count": null,
   "id": "2d26f24a",
   "metadata": {},
   "outputs": [],
   "source": []
  },
  {
   "cell_type": "code",
   "execution_count": null,
   "id": "f0014ca9",
   "metadata": {},
   "outputs": [],
   "source": []
  },
  {
   "cell_type": "code",
   "execution_count": null,
   "id": "f3acef93",
   "metadata": {},
   "outputs": [],
   "source": []
  },
  {
   "cell_type": "code",
   "execution_count": null,
   "id": "4f36ba09",
   "metadata": {},
   "outputs": [],
   "source": []
  },
  {
   "cell_type": "code",
   "execution_count": null,
   "id": "35106e6a",
   "metadata": {},
   "outputs": [],
   "source": []
  },
  {
   "cell_type": "code",
   "execution_count": null,
   "id": "d58580b3",
   "metadata": {},
   "outputs": [],
   "source": []
  },
  {
   "cell_type": "code",
   "execution_count": null,
   "id": "0ca202cb",
   "metadata": {},
   "outputs": [],
   "source": []
  },
  {
   "cell_type": "code",
   "execution_count": null,
   "id": "30ed4324",
   "metadata": {},
   "outputs": [],
   "source": []
  },
  {
   "cell_type": "code",
   "execution_count": null,
   "id": "92f28870",
   "metadata": {},
   "outputs": [],
   "source": []
  },
  {
   "cell_type": "code",
   "execution_count": null,
   "id": "bacbc371",
   "metadata": {},
   "outputs": [],
   "source": []
  },
  {
   "cell_type": "code",
   "execution_count": null,
   "id": "0185a5cb",
   "metadata": {},
   "outputs": [],
   "source": []
  },
  {
   "cell_type": "code",
   "execution_count": null,
   "id": "026fc59e",
   "metadata": {},
   "outputs": [],
   "source": []
  },
  {
   "cell_type": "code",
   "execution_count": null,
   "id": "348dafbe",
   "metadata": {},
   "outputs": [],
   "source": []
  },
  {
   "cell_type": "code",
   "execution_count": null,
   "id": "3097d286",
   "metadata": {},
   "outputs": [],
   "source": []
  },
  {
   "cell_type": "code",
   "execution_count": null,
   "id": "fb6043e0",
   "metadata": {},
   "outputs": [],
   "source": []
  }
 ],
 "metadata": {
  "kernelspec": {
   "display_name": "Python 3",
   "language": "python",
   "name": "python3"
  },
  "language_info": {
   "codemirror_mode": {
    "name": "ipython",
    "version": 3
   },
   "file_extension": ".py",
   "mimetype": "text/x-python",
   "name": "python",
   "nbconvert_exporter": "python",
   "pygments_lexer": "ipython3",
   "version": "3.13.5"
  }
 },
 "nbformat": 4,
 "nbformat_minor": 5
}
